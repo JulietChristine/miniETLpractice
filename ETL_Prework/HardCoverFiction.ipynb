{
 "cells": [
  {
   "cell_type": "code",
   "execution_count": 2,
   "metadata": {},
   "outputs": [],
   "source": [
    "import pandas as pd\n",
    "import numpy as np\n",
    "import requests\n",
    "import json\n",
    "from config import api_key\n",
    "from pprint import pprint"
   ]
  },
  {
   "cell_type": "code",
   "execution_count": 3,
   "metadata": {},
   "outputs": [],
   "source": [
    "base_url = \"https://api.nytimes.com/svc/books/v3\"\n",
    "tail = f\"?api-key={api_key}\""
   ]
  },
  {
   "cell_type": "code",
   "execution_count": 4,
   "metadata": {},
   "outputs": [],
   "source": [
    "weeks_in_bc = ['current','2020-09-21','2020-09-14','2020-09-07','2020-08-31','2020-08-24', '2020-08-17', '2020-08-10', '2020-08-03', '2020-07-27', '2020-07-20','2020-07-13','2020-07-06','2020-06-29']\n",
    "#things we want: Title, Author, ISBN, Number of Weeks on NYT Best Seller List,Rating on Kaggle"
   ]
  },
  {
   "cell_type": "code",
   "execution_count": 5,
   "metadata": {},
   "outputs": [],
   "source": [
    "#Variables for lists/API call\n",
    "result_count=np.arange(15)\n",
    "list_name=[]\n",
    "publish_date=[]\n",
    "title_name=[]\n",
    "author_name=[]\n",
    "weeks_on_list=[]\n",
    "#not used in df still figuring out\n",
    "isbns=[]"
   ]
  },
  {
   "cell_type": "code",
   "execution_count": 6,
   "metadata": {},
   "outputs": [],
   "source": [
    "for week in weeks_in_bc:\n",
    "    response = requests.get(f\"{base_url}/lists/{week}/hardcover-fiction.json{tail}\")\n",
    "    data=response.json()\n",
    "    for i in result_count:\n",
    "        listname = data['results']['list_name']\n",
    "        list_name.append(listname)\n",
    "        pub_date = data['results']['bestsellers_date']\n",
    "        publish_date.append(pub_date)\n",
    "        title = data['results']['books'][i]['title']\n",
    "        title_name.append(title)\n",
    "        author = data['results']['books'][i]['author']\n",
    "        author_name.append(author)\n",
    "        weeks = data['results']['books'][i]['weeks_on_list']\n",
    "        weeks_on_list.append(weeks)\n",
    "        isbnlist = data['results']['books'][i]['isbns']\n",
    "        isbns.append(isbnlist)"
   ]
  },
  {
   "cell_type": "markdown",
   "metadata": {},
   "source": [
    "pprint(data)"
   ]
  },
  {
   "cell_type": "code",
   "execution_count": 9,
   "metadata": {},
   "outputs": [],
   "source": [
    "hc_fiction_df=pd.DataFrame({\n",
    "    \"List\": list_name,\n",
    "    \"List_Date\": publish_date,\n",
    "    \"Title\": title_name,\n",
    "    \"Author\": author_name,\n",
    "    \"Weeks_On_List\": weeks_on_list \n",
    "})"
   ]
  },
  {
   "cell_type": "code",
   "execution_count": 10,
   "metadata": {},
   "outputs": [
    {
     "data": {
      "text/html": [
       "<div>\n",
       "<style scoped>\n",
       "    .dataframe tbody tr th:only-of-type {\n",
       "        vertical-align: middle;\n",
       "    }\n",
       "\n",
       "    .dataframe tbody tr th {\n",
       "        vertical-align: top;\n",
       "    }\n",
       "\n",
       "    .dataframe thead th {\n",
       "        text-align: right;\n",
       "    }\n",
       "</style>\n",
       "<table border=\"1\" class=\"dataframe\">\n",
       "  <thead>\n",
       "    <tr style=\"text-align: right;\">\n",
       "      <th></th>\n",
       "      <th>List</th>\n",
       "      <th>List_Date</th>\n",
       "      <th>Title</th>\n",
       "      <th>Author</th>\n",
       "      <th>Weeks_On_List</th>\n",
       "    </tr>\n",
       "  </thead>\n",
       "  <tbody>\n",
       "    <tr>\n",
       "      <th>0</th>\n",
       "      <td>Hardcover Fiction</td>\n",
       "      <td>2020-09-19</td>\n",
       "      <td>THE EVENING AND THE MORNING</td>\n",
       "      <td>Ken Follett</td>\n",
       "      <td>1</td>\n",
       "    </tr>\n",
       "    <tr>\n",
       "      <th>1</th>\n",
       "      <td>Hardcover Fiction</td>\n",
       "      <td>2020-09-19</td>\n",
       "      <td>TROUBLED BLOOD</td>\n",
       "      <td>Robert Galbraith</td>\n",
       "      <td>1</td>\n",
       "    </tr>\n",
       "    <tr>\n",
       "      <th>2</th>\n",
       "      <td>Hardcover Fiction</td>\n",
       "      <td>2020-09-19</td>\n",
       "      <td>VINCE FLYNN: TOTAL POWER</td>\n",
       "      <td>Kyle Mills</td>\n",
       "      <td>1</td>\n",
       "    </tr>\n",
       "    <tr>\n",
       "      <th>3</th>\n",
       "      <td>Hardcover Fiction</td>\n",
       "      <td>2020-09-19</td>\n",
       "      <td>TO SLEEP IN A SEA OF STARS</td>\n",
       "      <td>Christopher Paolini</td>\n",
       "      <td>1</td>\n",
       "    </tr>\n",
       "    <tr>\n",
       "      <th>4</th>\n",
       "      <td>Hardcover Fiction</td>\n",
       "      <td>2020-09-19</td>\n",
       "      <td>THE VANISHING HALF</td>\n",
       "      <td>Brit Bennett</td>\n",
       "      <td>16</td>\n",
       "    </tr>\n",
       "  </tbody>\n",
       "</table>\n",
       "</div>"
      ],
      "text/plain": [
       "                List   List_Date                        Title  \\\n",
       "0  Hardcover Fiction  2020-09-19  THE EVENING AND THE MORNING   \n",
       "1  Hardcover Fiction  2020-09-19               TROUBLED BLOOD   \n",
       "2  Hardcover Fiction  2020-09-19     VINCE FLYNN: TOTAL POWER   \n",
       "3  Hardcover Fiction  2020-09-19   TO SLEEP IN A SEA OF STARS   \n",
       "4  Hardcover Fiction  2020-09-19           THE VANISHING HALF   \n",
       "\n",
       "                Author  Weeks_On_List  \n",
       "0          Ken Follett              1  \n",
       "1     Robert Galbraith              1  \n",
       "2           Kyle Mills              1  \n",
       "3  Christopher Paolini              1  \n",
       "4         Brit Bennett             16  "
      ]
     },
     "execution_count": 10,
     "metadata": {},
     "output_type": "execute_result"
    }
   ],
   "source": [
    "hc_fiction_df.head()"
   ]
  },
  {
   "cell_type": "code",
   "execution_count": 11,
   "metadata": {},
   "outputs": [
    {
     "data": {
      "text/plain": [
       "65"
      ]
     },
     "execution_count": 11,
     "metadata": {},
     "output_type": "execute_result"
    }
   ],
   "source": [
    "hc_fiction_df[\"Title\"].nunique()"
   ]
  },
  {
   "cell_type": "code",
   "execution_count": 12,
   "metadata": {},
   "outputs": [],
   "source": [
    "hc_titles = list(hc_fiction_df[\"Title\"].unique())"
   ]
  },
  {
   "cell_type": "code",
   "execution_count": 13,
   "metadata": {},
   "outputs": [],
   "source": [
    "#Some pbj: I need to make a new df with only the entries for the 65 titles with thier max weeks on the list...\n",
    "#trying groupby title pls hold... this did not work\n",
    "#trying sort and drop dupes... THIS WORKED"
   ]
  },
  {
   "cell_type": "code",
   "execution_count": 14,
   "metadata": {},
   "outputs": [],
   "source": [
    "test_df = hc_fiction_df.copy().sort_values(by=[\"Title\",\"Weeks_On_List\"], ascending=False)"
   ]
  },
  {
   "cell_type": "code",
   "execution_count": 15,
   "metadata": {},
   "outputs": [],
   "source": [
    "only_hc_titles_df = test_df.copy().drop_duplicates(subset=\"Title\", keep=\"first\", inplace=False)"
   ]
  },
  {
   "cell_type": "code",
   "execution_count": 16,
   "metadata": {},
   "outputs": [],
   "source": [
    "only_hc_titles_df = only_hc_titles_df.sort_values(by=\"Weeks_On_List\", ascending=False)"
   ]
  },
  {
   "cell_type": "code",
   "execution_count": 17,
   "metadata": {},
   "outputs": [
    {
     "data": {
      "text/html": [
       "<div>\n",
       "<style scoped>\n",
       "    .dataframe tbody tr th:only-of-type {\n",
       "        vertical-align: middle;\n",
       "    }\n",
       "\n",
       "    .dataframe tbody tr th {\n",
       "        vertical-align: top;\n",
       "    }\n",
       "\n",
       "    .dataframe thead th {\n",
       "        text-align: right;\n",
       "    }\n",
       "</style>\n",
       "<table border=\"1\" class=\"dataframe\">\n",
       "  <thead>\n",
       "    <tr style=\"text-align: right;\">\n",
       "      <th></th>\n",
       "      <th>List</th>\n",
       "      <th>List_Date</th>\n",
       "      <th>Title</th>\n",
       "      <th>Author</th>\n",
       "      <th>Weeks_On_List</th>\n",
       "    </tr>\n",
       "  </thead>\n",
       "  <tbody>\n",
       "    <tr>\n",
       "      <th>5</th>\n",
       "      <td>Hardcover Fiction</td>\n",
       "      <td>2020-09-19</td>\n",
       "      <td>WHERE THE CRAWDADS SING</td>\n",
       "      <td>Delia Owens</td>\n",
       "      <td>107</td>\n",
       "    </tr>\n",
       "    <tr>\n",
       "      <th>55</th>\n",
       "      <td>Hardcover Fiction</td>\n",
       "      <td>2020-08-29</td>\n",
       "      <td>THE SILENT PATIENT</td>\n",
       "      <td>Alex Michaelides</td>\n",
       "      <td>56</td>\n",
       "    </tr>\n",
       "    <tr>\n",
       "      <th>27</th>\n",
       "      <td>Hardcover Fiction</td>\n",
       "      <td>2020-09-12</td>\n",
       "      <td>AMERICAN DIRT</td>\n",
       "      <td>Jeanine Cummins</td>\n",
       "      <td>34</td>\n",
       "    </tr>\n",
       "    <tr>\n",
       "      <th>59</th>\n",
       "      <td>Hardcover Fiction</td>\n",
       "      <td>2020-08-29</td>\n",
       "      <td>IF IT BLEEDS</td>\n",
       "      <td>Stephen King</td>\n",
       "      <td>18</td>\n",
       "    </tr>\n",
       "    <tr>\n",
       "      <th>72</th>\n",
       "      <td>Hardcover Fiction</td>\n",
       "      <td>2020-08-22</td>\n",
       "      <td>CAMINO WINDS</td>\n",
       "      <td>John Grisham</td>\n",
       "      <td>17</td>\n",
       "    </tr>\n",
       "  </tbody>\n",
       "</table>\n",
       "</div>"
      ],
      "text/plain": [
       "                 List   List_Date                    Title            Author  \\\n",
       "5   Hardcover Fiction  2020-09-19  WHERE THE CRAWDADS SING       Delia Owens   \n",
       "55  Hardcover Fiction  2020-08-29       THE SILENT PATIENT  Alex Michaelides   \n",
       "27  Hardcover Fiction  2020-09-12            AMERICAN DIRT   Jeanine Cummins   \n",
       "59  Hardcover Fiction  2020-08-29             IF IT BLEEDS      Stephen King   \n",
       "72  Hardcover Fiction  2020-08-22             CAMINO WINDS      John Grisham   \n",
       "\n",
       "    Weeks_On_List  \n",
       "5             107  \n",
       "55             56  \n",
       "27             34  \n",
       "59             18  \n",
       "72             17  "
      ]
     },
     "execution_count": 17,
     "metadata": {},
     "output_type": "execute_result"
    }
   ],
   "source": [
    "only_hc_titles_df.head()"
   ]
  },
  {
   "cell_type": "code",
   "execution_count": 18,
   "metadata": {},
   "outputs": [
    {
     "data": {
      "text/html": [
       "<div>\n",
       "<style scoped>\n",
       "    .dataframe tbody tr th:only-of-type {\n",
       "        vertical-align: middle;\n",
       "    }\n",
       "\n",
       "    .dataframe tbody tr th {\n",
       "        vertical-align: top;\n",
       "    }\n",
       "\n",
       "    .dataframe thead th {\n",
       "        text-align: right;\n",
       "    }\n",
       "</style>\n",
       "<table border=\"1\" class=\"dataframe\">\n",
       "  <thead>\n",
       "    <tr style=\"text-align: right;\">\n",
       "      <th></th>\n",
       "      <th>Title</th>\n",
       "    </tr>\n",
       "  </thead>\n",
       "  <tbody>\n",
       "    <tr>\n",
       "      <th>WHERE THE CRAWDADS SING</th>\n",
       "      <td>14</td>\n",
       "    </tr>\n",
       "    <tr>\n",
       "      <th>THE VANISHING HALF</th>\n",
       "      <td>14</td>\n",
       "    </tr>\n",
       "    <tr>\n",
       "      <th>THE GUEST LIST</th>\n",
       "      <td>14</td>\n",
       "    </tr>\n",
       "    <tr>\n",
       "      <th>AMERICAN DIRT</th>\n",
       "      <td>13</td>\n",
       "    </tr>\n",
       "    <tr>\n",
       "      <th>28 SUMMERS</th>\n",
       "      <td>11</td>\n",
       "    </tr>\n",
       "    <tr>\n",
       "      <th>...</th>\n",
       "      <td>...</td>\n",
       "    </tr>\n",
       "    <tr>\n",
       "      <th>CHOPPY WATER</th>\n",
       "      <td>1</td>\n",
       "    </tr>\n",
       "    <tr>\n",
       "      <th>THE DARKEST EVENING</th>\n",
       "      <td>1</td>\n",
       "    </tr>\n",
       "    <tr>\n",
       "      <th>FRIENDS AND STRANGERS</th>\n",
       "      <td>1</td>\n",
       "    </tr>\n",
       "    <tr>\n",
       "      <th>DARK SONG</th>\n",
       "      <td>1</td>\n",
       "    </tr>\n",
       "    <tr>\n",
       "      <th>A BEAUTIFULLY FOOLISH ENDEAVOR</th>\n",
       "      <td>1</td>\n",
       "    </tr>\n",
       "  </tbody>\n",
       "</table>\n",
       "<p>65 rows × 1 columns</p>\n",
       "</div>"
      ],
      "text/plain": [
       "                                Title\n",
       "WHERE THE CRAWDADS SING            14\n",
       "THE VANISHING HALF                 14\n",
       "THE GUEST LIST                     14\n",
       "AMERICAN DIRT                      13\n",
       "28 SUMMERS                         11\n",
       "...                               ...\n",
       "CHOPPY WATER                        1\n",
       "THE DARKEST EVENING                 1\n",
       "FRIENDS AND STRANGERS               1\n",
       "DARK SONG                           1\n",
       "A BEAUTIFULLY FOOLISH ENDEAVOR      1\n",
       "\n",
       "[65 rows x 1 columns]"
      ]
     },
     "execution_count": 18,
     "metadata": {},
     "output_type": "execute_result"
    }
   ],
   "source": [
    "counts = pd.DataFrame(hc_fiction_df[\"Title\"].value_counts())\n",
    "counts"
   ]
  },
  {
   "cell_type": "code",
   "execution_count": 19,
   "metadata": {},
   "outputs": [],
   "source": [
    "#have to take a break, daily limit reached. oops"
   ]
  },
  {
   "cell_type": "code",
   "execution_count": null,
   "metadata": {},
   "outputs": [],
   "source": []
  }
 ],
 "metadata": {
  "kernelspec": {
   "display_name": "Python 3",
   "language": "python",
   "name": "python3"
  }
 },
 "nbformat": 4,
 "nbformat_minor": 4
}
